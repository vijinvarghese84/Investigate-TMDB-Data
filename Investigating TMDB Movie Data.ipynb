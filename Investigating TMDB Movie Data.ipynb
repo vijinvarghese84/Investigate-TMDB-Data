{
 "cells": [
  {
   "cell_type": "markdown",
   "metadata": {},
   "source": [
    "> \n",
    "\n",
    "# Project: Investigate TMDB Movie Data\n",
    "\n",
    "## Table of Contents\n",
    "<ul>\n",
    "<li><a href=\"#intro\">Introduction</a></li>\n",
    "<li><a href=\"#wrangling\">Data Wrangling</a></li>\n",
    "<li><a href=\"#eda\">Exploratory Data Analysis</a></li>\n",
    "<li><a href=\"#conclusions\">Conclusions</a></li>\n",
    "</ul>"
   ]
  },
  {
   "cell_type": "markdown",
   "metadata": {},
   "source": [
    "<a id='intro'></a>\n",
    "## Introduction\n",
    "\n",
    "\n",
    "\n",
    "> I have decided to investigate the TMDB Movie Data. This data set provides a detailed information of all Hollywood movies that have been released since 1966 to 2015.Some of the major attributes that have been provided for analysis include budget, revenue, cast, director, genre, production company, release date and user rating.\n",
    ">\n",
    "> In this report, I have tried to compare the revenue/budget/profit with various other attributes\n",
    "> Following are the questions that I try to explore from this data set:<br/><br/>\n",
    "\n",
    "> 1) Which genres are most revenue genrating from year to year? <br/> \n",
    "> 2) How has the overall budget and revenue varied?<br/>\n",
    "> 3) Which Production companies are the most profitable for the last 15 years?<br/>\n",
    "> 4) Which movies are the most profitable for the last 15 years?<br/>\n",
    "> 5) Number of movies associated to directors which has grossed more than $500 million in revenue\n",
    "<br/><br/>\n"
   ]
  },
  {
   "cell_type": "code",
   "execution_count": 3,
   "metadata": {
    "collapsed": true
   },
   "outputs": [],
   "source": [
    "# Import the packages that is intended for analysis\n",
    "import matplotlib.pyplot as plt\n",
    "import numpy as np\n",
    "import pandas as pd\n",
    "import seaborn as sns\n",
    "\n",
    "%matplotlib inline\n"
   ]
  },
  {
   "cell_type": "markdown",
   "metadata": {},
   "source": [
    "<a id='wrangling'></a>\n",
    "## Data Wrangling\n",
    "\n",
    "> In this section, I have loaded the data from tmdb-movies.csv file. <br/>\n",
    "> My first step of analysis involved checking for null values and replacing null values across some of the columns intended for analysis with \"Missing Data\"\n"
   ]
  },
  {
   "cell_type": "code",
   "execution_count": 5,
   "metadata": {},
   "outputs": [
    {
     "data": {
      "text/html": [
       "<div>\n",
       "<table border=\"1\" class=\"dataframe\">\n",
       "  <thead>\n",
       "    <tr style=\"text-align: right;\">\n",
       "      <th></th>\n",
       "      <th>id</th>\n",
       "      <th>imdb_id</th>\n",
       "      <th>popularity</th>\n",
       "      <th>budget</th>\n",
       "      <th>revenue</th>\n",
       "      <th>original_title</th>\n",
       "      <th>cast</th>\n",
       "      <th>homepage</th>\n",
       "      <th>director</th>\n",
       "      <th>tagline</th>\n",
       "      <th>...</th>\n",
       "      <th>overview</th>\n",
       "      <th>runtime</th>\n",
       "      <th>genres</th>\n",
       "      <th>production_companies</th>\n",
       "      <th>release_date</th>\n",
       "      <th>vote_count</th>\n",
       "      <th>vote_average</th>\n",
       "      <th>release_year</th>\n",
       "      <th>budget_adj</th>\n",
       "      <th>revenue_adj</th>\n",
       "    </tr>\n",
       "  </thead>\n",
       "  <tbody>\n",
       "    <tr>\n",
       "      <th>0</th>\n",
       "      <td>135397</td>\n",
       "      <td>tt0369610</td>\n",
       "      <td>32.985763</td>\n",
       "      <td>150000000</td>\n",
       "      <td>1513528810</td>\n",
       "      <td>Jurassic World</td>\n",
       "      <td>Chris Pratt|Bryce Dallas Howard|Irrfan Khan|Vi...</td>\n",
       "      <td>http://www.jurassicworld.com/</td>\n",
       "      <td>Colin Trevorrow</td>\n",
       "      <td>The park is open.</td>\n",
       "      <td>...</td>\n",
       "      <td>Twenty-two years after the events of Jurassic ...</td>\n",
       "      <td>124</td>\n",
       "      <td>Action|Adventure|Science Fiction|Thriller</td>\n",
       "      <td>Universal Studios|Amblin Entertainment|Legenda...</td>\n",
       "      <td>6/9/15</td>\n",
       "      <td>5562</td>\n",
       "      <td>6.5</td>\n",
       "      <td>2015</td>\n",
       "      <td>1.379999e+08</td>\n",
       "      <td>1.392446e+09</td>\n",
       "    </tr>\n",
       "    <tr>\n",
       "      <th>1</th>\n",
       "      <td>76341</td>\n",
       "      <td>tt1392190</td>\n",
       "      <td>28.419936</td>\n",
       "      <td>150000000</td>\n",
       "      <td>378436354</td>\n",
       "      <td>Mad Max: Fury Road</td>\n",
       "      <td>Tom Hardy|Charlize Theron|Hugh Keays-Byrne|Nic...</td>\n",
       "      <td>http://www.madmaxmovie.com/</td>\n",
       "      <td>George Miller</td>\n",
       "      <td>What a Lovely Day.</td>\n",
       "      <td>...</td>\n",
       "      <td>An apocalyptic story set in the furthest reach...</td>\n",
       "      <td>120</td>\n",
       "      <td>Action|Adventure|Science Fiction|Thriller</td>\n",
       "      <td>Village Roadshow Pictures|Kennedy Miller Produ...</td>\n",
       "      <td>5/13/15</td>\n",
       "      <td>6185</td>\n",
       "      <td>7.1</td>\n",
       "      <td>2015</td>\n",
       "      <td>1.379999e+08</td>\n",
       "      <td>3.481613e+08</td>\n",
       "    </tr>\n",
       "    <tr>\n",
       "      <th>2</th>\n",
       "      <td>262500</td>\n",
       "      <td>tt2908446</td>\n",
       "      <td>13.112507</td>\n",
       "      <td>110000000</td>\n",
       "      <td>295238201</td>\n",
       "      <td>Insurgent</td>\n",
       "      <td>Shailene Woodley|Theo James|Kate Winslet|Ansel...</td>\n",
       "      <td>http://www.thedivergentseries.movie/#insurgent</td>\n",
       "      <td>Robert Schwentke</td>\n",
       "      <td>One Choice Can Destroy You</td>\n",
       "      <td>...</td>\n",
       "      <td>Beatrice Prior must confront her inner demons ...</td>\n",
       "      <td>119</td>\n",
       "      <td>Adventure|Science Fiction|Thriller</td>\n",
       "      <td>Summit Entertainment|Mandeville Films|Red Wago...</td>\n",
       "      <td>3/18/15</td>\n",
       "      <td>2480</td>\n",
       "      <td>6.3</td>\n",
       "      <td>2015</td>\n",
       "      <td>1.012000e+08</td>\n",
       "      <td>2.716190e+08</td>\n",
       "    </tr>\n",
       "    <tr>\n",
       "      <th>3</th>\n",
       "      <td>140607</td>\n",
       "      <td>tt2488496</td>\n",
       "      <td>11.173104</td>\n",
       "      <td>200000000</td>\n",
       "      <td>2068178225</td>\n",
       "      <td>Star Wars: The Force Awakens</td>\n",
       "      <td>Harrison Ford|Mark Hamill|Carrie Fisher|Adam D...</td>\n",
       "      <td>http://www.starwars.com/films/star-wars-episod...</td>\n",
       "      <td>J.J. Abrams</td>\n",
       "      <td>Every generation has a story.</td>\n",
       "      <td>...</td>\n",
       "      <td>Thirty years after defeating the Galactic Empi...</td>\n",
       "      <td>136</td>\n",
       "      <td>Action|Adventure|Science Fiction|Fantasy</td>\n",
       "      <td>Lucasfilm|Truenorth Productions|Bad Robot</td>\n",
       "      <td>12/15/15</td>\n",
       "      <td>5292</td>\n",
       "      <td>7.5</td>\n",
       "      <td>2015</td>\n",
       "      <td>1.839999e+08</td>\n",
       "      <td>1.902723e+09</td>\n",
       "    </tr>\n",
       "    <tr>\n",
       "      <th>4</th>\n",
       "      <td>168259</td>\n",
       "      <td>tt2820852</td>\n",
       "      <td>9.335014</td>\n",
       "      <td>190000000</td>\n",
       "      <td>1506249360</td>\n",
       "      <td>Furious 7</td>\n",
       "      <td>Vin Diesel|Paul Walker|Jason Statham|Michelle ...</td>\n",
       "      <td>http://www.furious7.com/</td>\n",
       "      <td>James Wan</td>\n",
       "      <td>Vengeance Hits Home</td>\n",
       "      <td>...</td>\n",
       "      <td>Deckard Shaw seeks revenge against Dominic Tor...</td>\n",
       "      <td>137</td>\n",
       "      <td>Action|Crime|Thriller</td>\n",
       "      <td>Universal Pictures|Original Film|Media Rights ...</td>\n",
       "      <td>4/1/15</td>\n",
       "      <td>2947</td>\n",
       "      <td>7.3</td>\n",
       "      <td>2015</td>\n",
       "      <td>1.747999e+08</td>\n",
       "      <td>1.385749e+09</td>\n",
       "    </tr>\n",
       "  </tbody>\n",
       "</table>\n",
       "<p>5 rows × 21 columns</p>\n",
       "</div>"
      ],
      "text/plain": [
       "       id    imdb_id  popularity     budget     revenue  \\\n",
       "0  135397  tt0369610   32.985763  150000000  1513528810   \n",
       "1   76341  tt1392190   28.419936  150000000   378436354   \n",
       "2  262500  tt2908446   13.112507  110000000   295238201   \n",
       "3  140607  tt2488496   11.173104  200000000  2068178225   \n",
       "4  168259  tt2820852    9.335014  190000000  1506249360   \n",
       "\n",
       "                 original_title  \\\n",
       "0                Jurassic World   \n",
       "1            Mad Max: Fury Road   \n",
       "2                     Insurgent   \n",
       "3  Star Wars: The Force Awakens   \n",
       "4                     Furious 7   \n",
       "\n",
       "                                                cast  \\\n",
       "0  Chris Pratt|Bryce Dallas Howard|Irrfan Khan|Vi...   \n",
       "1  Tom Hardy|Charlize Theron|Hugh Keays-Byrne|Nic...   \n",
       "2  Shailene Woodley|Theo James|Kate Winslet|Ansel...   \n",
       "3  Harrison Ford|Mark Hamill|Carrie Fisher|Adam D...   \n",
       "4  Vin Diesel|Paul Walker|Jason Statham|Michelle ...   \n",
       "\n",
       "                                            homepage          director  \\\n",
       "0                      http://www.jurassicworld.com/   Colin Trevorrow   \n",
       "1                        http://www.madmaxmovie.com/     George Miller   \n",
       "2     http://www.thedivergentseries.movie/#insurgent  Robert Schwentke   \n",
       "3  http://www.starwars.com/films/star-wars-episod...       J.J. Abrams   \n",
       "4                           http://www.furious7.com/         James Wan   \n",
       "\n",
       "                         tagline      ...       \\\n",
       "0              The park is open.      ...        \n",
       "1             What a Lovely Day.      ...        \n",
       "2     One Choice Can Destroy You      ...        \n",
       "3  Every generation has a story.      ...        \n",
       "4            Vengeance Hits Home      ...        \n",
       "\n",
       "                                            overview runtime  \\\n",
       "0  Twenty-two years after the events of Jurassic ...     124   \n",
       "1  An apocalyptic story set in the furthest reach...     120   \n",
       "2  Beatrice Prior must confront her inner demons ...     119   \n",
       "3  Thirty years after defeating the Galactic Empi...     136   \n",
       "4  Deckard Shaw seeks revenge against Dominic Tor...     137   \n",
       "\n",
       "                                      genres  \\\n",
       "0  Action|Adventure|Science Fiction|Thriller   \n",
       "1  Action|Adventure|Science Fiction|Thriller   \n",
       "2         Adventure|Science Fiction|Thriller   \n",
       "3   Action|Adventure|Science Fiction|Fantasy   \n",
       "4                      Action|Crime|Thriller   \n",
       "\n",
       "                                production_companies release_date vote_count  \\\n",
       "0  Universal Studios|Amblin Entertainment|Legenda...       6/9/15       5562   \n",
       "1  Village Roadshow Pictures|Kennedy Miller Produ...      5/13/15       6185   \n",
       "2  Summit Entertainment|Mandeville Films|Red Wago...      3/18/15       2480   \n",
       "3          Lucasfilm|Truenorth Productions|Bad Robot     12/15/15       5292   \n",
       "4  Universal Pictures|Original Film|Media Rights ...       4/1/15       2947   \n",
       "\n",
       "   vote_average  release_year    budget_adj   revenue_adj  \n",
       "0           6.5          2015  1.379999e+08  1.392446e+09  \n",
       "1           7.1          2015  1.379999e+08  3.481613e+08  \n",
       "2           6.3          2015  1.012000e+08  2.716190e+08  \n",
       "3           7.5          2015  1.839999e+08  1.902723e+09  \n",
       "4           7.3          2015  1.747999e+08  1.385749e+09  \n",
       "\n",
       "[5 rows x 21 columns]"
      ]
     },
     "execution_count": 5,
     "metadata": {},
     "output_type": "execute_result"
    }
   ],
   "source": [
    "# Loading data rom csv\n",
    "filename='C:/Users/Vijin/Udacity/Part 3/Project/tmdb-movies.csv'\n",
    "movies_df=pd.read_csv(filename)\n",
    "\n",
    "#Printing top 5 rows\n",
    "movies_df.head()"
   ]
  },
  {
   "cell_type": "code",
   "execution_count": 6,
   "metadata": {},
   "outputs": [
    {
     "data": {
      "text/plain": [
       "(10866, 21)"
      ]
     },
     "execution_count": 6,
     "metadata": {},
     "output_type": "execute_result"
    }
   ],
   "source": [
    "#Checking number of rows and columns in the dataframe\n",
    "movies_df.shape"
   ]
  },
  {
   "cell_type": "code",
   "execution_count": 7,
   "metadata": {},
   "outputs": [
    {
     "data": {
      "text/plain": [
       "id                         0\n",
       "imdb_id                   10\n",
       "popularity                 0\n",
       "budget                     0\n",
       "revenue                    0\n",
       "original_title             0\n",
       "cast                      76\n",
       "homepage                7930\n",
       "director                  44\n",
       "tagline                 2824\n",
       "keywords                1493\n",
       "overview                   4\n",
       "runtime                    0\n",
       "genres                    23\n",
       "production_companies    1030\n",
       "release_date               0\n",
       "vote_count                 0\n",
       "vote_average               0\n",
       "release_year               0\n",
       "budget_adj                 0\n",
       "revenue_adj                0\n",
       "dtype: int64"
      ]
     },
     "execution_count": 7,
     "metadata": {},
     "output_type": "execute_result"
    }
   ],
   "source": [
    "#Checking for total number of null values across each column\n",
    "movies_df.isnull().sum()"
   ]
  },
  {
   "cell_type": "code",
   "execution_count": 8,
   "metadata": {},
   "outputs": [
    {
     "data": {
      "text/plain": [
       "False"
      ]
     },
     "execution_count": 8,
     "metadata": {},
     "output_type": "execute_result"
    }
   ],
   "source": [
    "#Filling null values in Cast column with \"Misssing Cast\" and confirming if there is any null values\n",
    "movies_df['cast'].fillna('Missing Cast', inplace='true')\n",
    "movies_df['cast'].isnull().any()"
   ]
  },
  {
   "cell_type": "code",
   "execution_count": 9,
   "metadata": {},
   "outputs": [
    {
     "data": {
      "text/plain": [
       "False"
      ]
     },
     "execution_count": 9,
     "metadata": {},
     "output_type": "execute_result"
    }
   ],
   "source": [
    "#Filling null values in Director column with \"Misssing Director\" and confirming if there is any null values\n",
    "movies_df['director'].fillna('Missing Director', inplace='true')\n",
    "movies_df['director'].isnull().any()"
   ]
  },
  {
   "cell_type": "code",
   "execution_count": 10,
   "metadata": {},
   "outputs": [
    {
     "data": {
      "text/plain": [
       "False"
      ]
     },
     "execution_count": 10,
     "metadata": {},
     "output_type": "execute_result"
    }
   ],
   "source": [
    "#Filling null values in Genre column with \"Misssing Genre\" and confirming if there is any null values\n",
    "movies_df['genres'].fillna('Missing Genres', inplace='true')\n",
    "movies_df['genres'].isnull().any()"
   ]
  },
  {
   "cell_type": "code",
   "execution_count": 11,
   "metadata": {},
   "outputs": [
    {
     "data": {
      "text/plain": [
       "False"
      ]
     },
     "execution_count": 11,
     "metadata": {},
     "output_type": "execute_result"
    }
   ],
   "source": [
    "#Filling null values in Production Companies column with \"Misssing Production Companies\" and confirming if there is any null values\n",
    "movies_df['production_companies'].fillna('Missing Production Companies', inplace='true')\n",
    "movies_df['production_companies'].isnull().any()"
   ]
  },
  {
   "cell_type": "code",
   "execution_count": 12,
   "metadata": {},
   "outputs": [
    {
     "data": {
      "text/plain": [
       "id                         0\n",
       "imdb_id                   10\n",
       "popularity                 0\n",
       "budget                     0\n",
       "revenue                    0\n",
       "original_title             0\n",
       "cast                       0\n",
       "homepage                7930\n",
       "director                   0\n",
       "tagline                 2824\n",
       "keywords                1493\n",
       "overview                   4\n",
       "runtime                    0\n",
       "genres                     0\n",
       "production_companies       0\n",
       "release_date               0\n",
       "vote_count                 0\n",
       "vote_average               0\n",
       "release_year               0\n",
       "budget_adj                 0\n",
       "revenue_adj                0\n",
       "dtype: int64"
      ]
     },
     "execution_count": 12,
     "metadata": {},
     "output_type": "execute_result"
    }
   ],
   "source": [
    "#Checking for null values across each columns again\n",
    "movies_df.isnull().sum()"
   ]
  },
  {
   "cell_type": "markdown",
   "metadata": {},
   "source": [
    "\n",
    "### Data Cleaning\n",
    "\n",
    "> Create new dataframe by deleting those rows where revenue or budget is 0 since we won't be able to do a comparison of revenue vs budget for those movies"
   ]
  },
  {
   "cell_type": "code",
   "execution_count": 15,
   "metadata": {},
   "outputs": [
    {
     "data": {
      "text/plain": [
       "(3855, 21)"
      ]
     },
     "execution_count": 15,
     "metadata": {},
     "output_type": "execute_result"
    }
   ],
   "source": [
    "# Create new dataframe by deleting those rows where revenue or budget is 0 since \n",
    "# we wont be able to do a comparison of revenue vs budget analysis for these movies\n",
    "\n",
    "movies_rev_bud_df=movies_df[((movies_df.revenue!=0) & (movies_df.budget!=0)) ]\n",
    "movies_rev_bud_df.shape\n"
   ]
  },
  {
   "cell_type": "code",
   "execution_count": 16,
   "metadata": {},
   "outputs": [],
   "source": [
    "#Adding a new column Profit in the dataframe movies_rev_bud_df\n",
    "\n",
    "profit=pd.Series(movies_rev_bud_df['revenue'] - movies_rev_bud_df['budget'] )\n",
    "movies_rev_bud_df.loc[:,'profit']= profit"
   ]
  },
  {
   "cell_type": "code",
   "execution_count": 17,
   "metadata": {},
   "outputs": [
    {
     "data": {
      "text/plain": [
       "(3855, 22)"
      ]
     },
     "execution_count": 17,
     "metadata": {},
     "output_type": "execute_result"
    }
   ],
   "source": [
    "#Verifying the rows and columns of the new dataframe\n",
    "\n",
    "movies_rev_bud_df.shape"
   ]
  },
  {
   "cell_type": "code",
   "execution_count": 18,
   "metadata": {},
   "outputs": [
    {
     "data": {
      "text/html": [
       "<div>\n",
       "<table border=\"1\" class=\"dataframe\">\n",
       "  <thead>\n",
       "    <tr style=\"text-align: right;\">\n",
       "      <th></th>\n",
       "      <th>id</th>\n",
       "      <th>imdb_id</th>\n",
       "      <th>popularity</th>\n",
       "      <th>budget</th>\n",
       "      <th>revenue</th>\n",
       "      <th>original_title</th>\n",
       "      <th>cast</th>\n",
       "      <th>homepage</th>\n",
       "      <th>director</th>\n",
       "      <th>tagline</th>\n",
       "      <th>...</th>\n",
       "      <th>production_companies</th>\n",
       "      <th>release_date</th>\n",
       "      <th>vote_count</th>\n",
       "      <th>vote_average</th>\n",
       "      <th>release_year</th>\n",
       "      <th>budget_adj</th>\n",
       "      <th>revenue_adj</th>\n",
       "      <th>genre_comma</th>\n",
       "      <th>cast_comma</th>\n",
       "      <th>production_companies_comma</th>\n",
       "    </tr>\n",
       "  </thead>\n",
       "  <tbody>\n",
       "    <tr>\n",
       "      <th>0</th>\n",
       "      <td>135397</td>\n",
       "      <td>tt0369610</td>\n",
       "      <td>32.985763</td>\n",
       "      <td>150000000</td>\n",
       "      <td>1513528810</td>\n",
       "      <td>Jurassic World</td>\n",
       "      <td>Chris Pratt|Bryce Dallas Howard|Irrfan Khan|Vi...</td>\n",
       "      <td>http://www.jurassicworld.com/</td>\n",
       "      <td>Colin Trevorrow</td>\n",
       "      <td>The park is open.</td>\n",
       "      <td>...</td>\n",
       "      <td>Universal Studios|Amblin Entertainment|Legenda...</td>\n",
       "      <td>6/9/15</td>\n",
       "      <td>5562</td>\n",
       "      <td>6.5</td>\n",
       "      <td>2015</td>\n",
       "      <td>1.379999e+08</td>\n",
       "      <td>1.392446e+09</td>\n",
       "      <td>[Action, Adventure, Science Fiction, Thriller]</td>\n",
       "      <td>[Chris Pratt, Bryce Dallas Howard, Irrfan Khan...</td>\n",
       "      <td>[Universal Studios, Amblin Entertainment, Lege...</td>\n",
       "    </tr>\n",
       "    <tr>\n",
       "      <th>1</th>\n",
       "      <td>76341</td>\n",
       "      <td>tt1392190</td>\n",
       "      <td>28.419936</td>\n",
       "      <td>150000000</td>\n",
       "      <td>378436354</td>\n",
       "      <td>Mad Max: Fury Road</td>\n",
       "      <td>Tom Hardy|Charlize Theron|Hugh Keays-Byrne|Nic...</td>\n",
       "      <td>http://www.madmaxmovie.com/</td>\n",
       "      <td>George Miller</td>\n",
       "      <td>What a Lovely Day.</td>\n",
       "      <td>...</td>\n",
       "      <td>Village Roadshow Pictures|Kennedy Miller Produ...</td>\n",
       "      <td>5/13/15</td>\n",
       "      <td>6185</td>\n",
       "      <td>7.1</td>\n",
       "      <td>2015</td>\n",
       "      <td>1.379999e+08</td>\n",
       "      <td>3.481613e+08</td>\n",
       "      <td>[Action, Adventure, Science Fiction, Thriller]</td>\n",
       "      <td>[Tom Hardy, Charlize Theron, Hugh Keays-Byrne,...</td>\n",
       "      <td>[Village Roadshow Pictures, Kennedy Miller Pro...</td>\n",
       "    </tr>\n",
       "    <tr>\n",
       "      <th>2</th>\n",
       "      <td>262500</td>\n",
       "      <td>tt2908446</td>\n",
       "      <td>13.112507</td>\n",
       "      <td>110000000</td>\n",
       "      <td>295238201</td>\n",
       "      <td>Insurgent</td>\n",
       "      <td>Shailene Woodley|Theo James|Kate Winslet|Ansel...</td>\n",
       "      <td>http://www.thedivergentseries.movie/#insurgent</td>\n",
       "      <td>Robert Schwentke</td>\n",
       "      <td>One Choice Can Destroy You</td>\n",
       "      <td>...</td>\n",
       "      <td>Summit Entertainment|Mandeville Films|Red Wago...</td>\n",
       "      <td>3/18/15</td>\n",
       "      <td>2480</td>\n",
       "      <td>6.3</td>\n",
       "      <td>2015</td>\n",
       "      <td>1.012000e+08</td>\n",
       "      <td>2.716190e+08</td>\n",
       "      <td>[Adventure, Science Fiction, Thriller]</td>\n",
       "      <td>[Shailene Woodley, Theo James, Kate Winslet, A...</td>\n",
       "      <td>[Summit Entertainment, Mandeville Films, Red W...</td>\n",
       "    </tr>\n",
       "    <tr>\n",
       "      <th>3</th>\n",
       "      <td>140607</td>\n",
       "      <td>tt2488496</td>\n",
       "      <td>11.173104</td>\n",
       "      <td>200000000</td>\n",
       "      <td>2068178225</td>\n",
       "      <td>Star Wars: The Force Awakens</td>\n",
       "      <td>Harrison Ford|Mark Hamill|Carrie Fisher|Adam D...</td>\n",
       "      <td>http://www.starwars.com/films/star-wars-episod...</td>\n",
       "      <td>J.J. Abrams</td>\n",
       "      <td>Every generation has a story.</td>\n",
       "      <td>...</td>\n",
       "      <td>Lucasfilm|Truenorth Productions|Bad Robot</td>\n",
       "      <td>12/15/15</td>\n",
       "      <td>5292</td>\n",
       "      <td>7.5</td>\n",
       "      <td>2015</td>\n",
       "      <td>1.839999e+08</td>\n",
       "      <td>1.902723e+09</td>\n",
       "      <td>[Action, Adventure, Science Fiction, Fantasy]</td>\n",
       "      <td>[Harrison Ford, Mark Hamill, Carrie Fisher, Ad...</td>\n",
       "      <td>[Lucasfilm, Truenorth Productions, Bad Robot]</td>\n",
       "    </tr>\n",
       "    <tr>\n",
       "      <th>4</th>\n",
       "      <td>168259</td>\n",
       "      <td>tt2820852</td>\n",
       "      <td>9.335014</td>\n",
       "      <td>190000000</td>\n",
       "      <td>1506249360</td>\n",
       "      <td>Furious 7</td>\n",
       "      <td>Vin Diesel|Paul Walker|Jason Statham|Michelle ...</td>\n",
       "      <td>http://www.furious7.com/</td>\n",
       "      <td>James Wan</td>\n",
       "      <td>Vengeance Hits Home</td>\n",
       "      <td>...</td>\n",
       "      <td>Universal Pictures|Original Film|Media Rights ...</td>\n",
       "      <td>4/1/15</td>\n",
       "      <td>2947</td>\n",
       "      <td>7.3</td>\n",
       "      <td>2015</td>\n",
       "      <td>1.747999e+08</td>\n",
       "      <td>1.385749e+09</td>\n",
       "      <td>[Action, Crime, Thriller]</td>\n",
       "      <td>[Vin Diesel, Paul Walker, Jason Statham, Miche...</td>\n",
       "      <td>[Universal Pictures, Original Film, Media Righ...</td>\n",
       "    </tr>\n",
       "  </tbody>\n",
       "</table>\n",
       "<p>5 rows × 24 columns</p>\n",
       "</div>"
      ],
      "text/plain": [
       "       id    imdb_id  popularity     budget     revenue  \\\n",
       "0  135397  tt0369610   32.985763  150000000  1513528810   \n",
       "1   76341  tt1392190   28.419936  150000000   378436354   \n",
       "2  262500  tt2908446   13.112507  110000000   295238201   \n",
       "3  140607  tt2488496   11.173104  200000000  2068178225   \n",
       "4  168259  tt2820852    9.335014  190000000  1506249360   \n",
       "\n",
       "                 original_title  \\\n",
       "0                Jurassic World   \n",
       "1            Mad Max: Fury Road   \n",
       "2                     Insurgent   \n",
       "3  Star Wars: The Force Awakens   \n",
       "4                     Furious 7   \n",
       "\n",
       "                                                cast  \\\n",
       "0  Chris Pratt|Bryce Dallas Howard|Irrfan Khan|Vi...   \n",
       "1  Tom Hardy|Charlize Theron|Hugh Keays-Byrne|Nic...   \n",
       "2  Shailene Woodley|Theo James|Kate Winslet|Ansel...   \n",
       "3  Harrison Ford|Mark Hamill|Carrie Fisher|Adam D...   \n",
       "4  Vin Diesel|Paul Walker|Jason Statham|Michelle ...   \n",
       "\n",
       "                                            homepage          director  \\\n",
       "0                      http://www.jurassicworld.com/   Colin Trevorrow   \n",
       "1                        http://www.madmaxmovie.com/     George Miller   \n",
       "2     http://www.thedivergentseries.movie/#insurgent  Robert Schwentke   \n",
       "3  http://www.starwars.com/films/star-wars-episod...       J.J. Abrams   \n",
       "4                           http://www.furious7.com/         James Wan   \n",
       "\n",
       "                         tagline  \\\n",
       "0              The park is open.   \n",
       "1             What a Lovely Day.   \n",
       "2     One Choice Can Destroy You   \n",
       "3  Every generation has a story.   \n",
       "4            Vengeance Hits Home   \n",
       "\n",
       "                         ...                          \\\n",
       "0                        ...                           \n",
       "1                        ...                           \n",
       "2                        ...                           \n",
       "3                        ...                           \n",
       "4                        ...                           \n",
       "\n",
       "                                production_companies release_date  vote_count  \\\n",
       "0  Universal Studios|Amblin Entertainment|Legenda...       6/9/15        5562   \n",
       "1  Village Roadshow Pictures|Kennedy Miller Produ...      5/13/15        6185   \n",
       "2  Summit Entertainment|Mandeville Films|Red Wago...      3/18/15        2480   \n",
       "3          Lucasfilm|Truenorth Productions|Bad Robot     12/15/15        5292   \n",
       "4  Universal Pictures|Original Film|Media Rights ...       4/1/15        2947   \n",
       "\n",
       "  vote_average release_year    budget_adj   revenue_adj  \\\n",
       "0          6.5         2015  1.379999e+08  1.392446e+09   \n",
       "1          7.1         2015  1.379999e+08  3.481613e+08   \n",
       "2          6.3         2015  1.012000e+08  2.716190e+08   \n",
       "3          7.5         2015  1.839999e+08  1.902723e+09   \n",
       "4          7.3         2015  1.747999e+08  1.385749e+09   \n",
       "\n",
       "                                      genre_comma  \\\n",
       "0  [Action, Adventure, Science Fiction, Thriller]   \n",
       "1  [Action, Adventure, Science Fiction, Thriller]   \n",
       "2          [Adventure, Science Fiction, Thriller]   \n",
       "3   [Action, Adventure, Science Fiction, Fantasy]   \n",
       "4                       [Action, Crime, Thriller]   \n",
       "\n",
       "                                          cast_comma  \\\n",
       "0  [Chris Pratt, Bryce Dallas Howard, Irrfan Khan...   \n",
       "1  [Tom Hardy, Charlize Theron, Hugh Keays-Byrne,...   \n",
       "2  [Shailene Woodley, Theo James, Kate Winslet, A...   \n",
       "3  [Harrison Ford, Mark Hamill, Carrie Fisher, Ad...   \n",
       "4  [Vin Diesel, Paul Walker, Jason Statham, Miche...   \n",
       "\n",
       "                          production_companies_comma  \n",
       "0  [Universal Studios, Amblin Entertainment, Lege...  \n",
       "1  [Village Roadshow Pictures, Kennedy Miller Pro...  \n",
       "2  [Summit Entertainment, Mandeville Films, Red W...  \n",
       "3      [Lucasfilm, Truenorth Productions, Bad Robot]  \n",
       "4  [Universal Pictures, Original Film, Media Righ...  \n",
       "\n",
       "[5 rows x 24 columns]"
      ]
     },
     "execution_count": 18,
     "metadata": {},
     "output_type": "execute_result"
    }
   ],
   "source": [
    "#A function to convert the columns with delimiter | to an array so as to perform analysis\n",
    "\n",
    "def split_names(names):\n",
    "    full_name=names.split('|')\n",
    "    return full_name\n",
    "\n",
    "genres_array=movies_df['genres'].apply(split_names)\n",
    "cast_array=movies_df['cast'].apply(split_names)\n",
    "production_array=movies_df['production_companies'].apply(split_names)\n",
    "\n",
    "#Creating a new column genre_comma in dataframe\n",
    "movies_df['genre_comma']= pd.Series(genres_array,index=movies_df.index)\n",
    "\n",
    "#Creating a new column cast_comma in dataframe\n",
    "movies_df['cast_comma']= pd.Series(cast_array,index=movies_df.index)\n",
    "\n",
    "#Creating a new column production_companies_comma in dataframe\n",
    "movies_df['production_companies_comma']=pd.Series(production_array,index=movies_df.index)\n",
    "\n",
    "#Verifying the new columns are added in the dataframe\n",
    "movies_df.head()\n"
   ]
  },
  {
   "cell_type": "markdown",
   "metadata": {},
   "source": [
    "<a id='eda'></a>\n",
    "## Exploratory Data Analysis\n",
    "\n",
    "### Research Question 1: Most revenue genrating genres year on year (2011-2015 comparison)"
   ]
  },
  {
   "cell_type": "code",
   "execution_count": 19,
   "metadata": {},
   "outputs": [
    {
     "data": {
      "text/plain": [
       "<matplotlib.text.Text at 0xe6a25f8>"
      ]
     },
     "execution_count": 19,
     "metadata": {},
     "output_type": "execute_result"
    },
    {
     "data": {
      "image/png": "[encoded data removed]",
      "text/plain": [
       "<matplotlib.figure.Figure at 0xe30e898>"
      ]
     },
     "metadata": {},
     "output_type": "display_data"
    }
   ],
   "source": [
    "# Creating 3 empty lists\n",
    "revenue_list=[]\n",
    "genre_list=[]\n",
    "year_list=[]\n",
    "\n",
    "#A function to define the genres and its associated revenue and release year (Assumption: All the genres associated to a \n",
    "#movie are given the same revenue weightage)\n",
    "def create_list(genres):\n",
    "    #print genres\n",
    "    for x in genres['genre_comma']:\n",
    "        genre_list.append(x)\n",
    "        revenue_list.append(genres['revenue'])\n",
    "        year_list.append(genres['release_year'])\n",
    "        \n",
    "    return None\n",
    "\n",
    "movies_df.apply(create_list, axis='columns')  \n",
    "\n",
    "#Creating a new dataframe with columns revenue, genre and year\n",
    "new_genre_df=pd.DataFrame({'revenue':revenue_list,\n",
    "                            'genre':genre_list,\n",
    "                            'year': year_list}\n",
    "                            )\n",
    "                            \n",
    "#Creating a new dataframe which copies all data after 2010\n",
    "genre_filter_df=new_genre_df[new_genre_df['year']>2010]\n",
    "\n",
    "#Grouping by year and genre and calculating the mean of revenue\n",
    "genre_plot=genre_filter_df.groupby(['year','genre']).mean()['revenue']\n",
    "\n",
    "#Reshaped dataframe with new innermost level of column labels\n",
    "genre_plot_bar=genre_plot.unstack('genre')\n",
    "\n",
    "#Plotting bar chart\n",
    "ax=genre_plot_bar.plot.bar(label=\"bar_graph\",fontsize=8,width=0.9,colormap=\"Paired\")\n",
    "\n",
    "#Formatting legends\n",
    "ax.legend(prop={'size':7},loc='upper center', bbox_to_anchor=(1.45, 0.5),shadow=True, ncol=4)\n",
    "\n",
    "#Formatting labels\n",
    "for label in ax.xaxis.get_ticklabels():\n",
    "    label.set_rotation(0)\n",
    "plt.xlabel('Year')\n",
    "plt.ylabel('Revenue in 10 millions')\n",
    "plt.title('Genre vs Revenue')\n",
    "\n",
    "\n",
    "\n"
   ]
  },
  {
   "cell_type": "markdown",
   "metadata": {},
   "source": [
    "### Research Question 2: Budget vs Revenue comparison (Decade on Decade comparison)"
   ]
  },
  {
   "cell_type": "code",
   "execution_count": 21,
   "metadata": {},
   "outputs": [
    {
     "name": "stdout",
     "output_type": "stream",
     "text": [
      "(10866, 26)\n",
      "(3855, 26)\n"
     ]
    },
    {
     "data": {
      "text/plain": [
       "<matplotlib.text.Text at 0xedc56d8>"
      ]
     },
     "execution_count": 21,
     "metadata": {},
     "output_type": "execute_result"
    },
    {
     "data": {
      "image/png": "[encoded data removed]",
      "text/plain": [
       "<matplotlib.figure.Figure at 0xe9015c0>"
      ]
     },
     "metadata": {},
     "output_type": "display_data"
    }
   ],
   "source": [
    "# Revenue and Budget comparison by decade\n",
    "\n",
    "bins=[1965,1975,1985,1995,2005,2015]\n",
    "group_names=['1965-75','1975-85','1985-95','1995-05','2005-15']\n",
    "\n",
    "#Grouping each movie in to various bins\n",
    "categories=pd.cut(movies_df['release_year'], bins, labels=group_names)\n",
    "movies_df['categories']=pd.cut(movies_df['release_year'], bins, labels=group_names)\n",
    "movies_df['yearsBinned']=pd.cut(movies_df['release_year'], bins)\n",
    "print movies_df.shape\n",
    "\n",
    "#Creating a new dataframe by eliminating all movies with revenue or budget=0\n",
    "movies_df_cleanup=movies_df[((movies_df.revenue!=0) & (movies_df.budget!=0))]\n",
    "print movies_df_cleanup.shape\n",
    "\n",
    "#Grouping by categories and calculating mean of revenue and budget\n",
    "rev_bud_plot=movies_df_cleanup.groupby('categories')['revenue','budget'].mean()\n",
    "rev_bud_plot\n",
    "\n",
    "#Creating a line plot\n",
    "ax1=rev_bud_plot.plot()\n",
    "\n",
    "#Formating labels in the plot\n",
    "for label in ax1.xaxis.get_ticklabels():\n",
    "    label.set_rotation(0)  \n",
    "plt.xlabel('Decade')\n",
    "plt.ylabel('Dollar in 10 millions')\n",
    "plt.title('Revenue vs Budget')\n",
    "\n",
    "                            \n"
   ]
  },
  {
   "cell_type": "markdown",
   "metadata": {
    "collapsed": true
   },
   "source": [
    "### Research Question 3: 3 top Production Companies tied to profitable business every year since 2000"
   ]
  },
  {
   "cell_type": "code",
   "execution_count": 23,
   "metadata": {},
   "outputs": [
    {
     "name": "stdout",
     "output_type": "stream",
     "text": [
      "year  productionCompanies                  \n",
      "2001  Heyday Films                              851475550\n",
      "      WingNut Films                             778368364\n",
      "      The Saul Zaentz Company                   778368364\n",
      "2002  WingNut Films                             847287400\n",
      "      The Saul Zaentz Company                   847287400\n",
      "      1492 Pictures                             776688482\n",
      "2003  WingNut Films                            1024888979\n",
      "      Disney Enterprises                        770625978\n",
      "      Pixar Animation Studios                   770625978\n",
      "2004  1492 Pictures                             659804554\n",
      "      P of A Productions Limited                659804554\n",
      "      Heyday Films                              659804554\n",
      "2005  Heyday Films                              745921036\n",
      "      Patalex IV Productions Limited            745921036\n",
      "      Lucasfilm                                 737000000\n",
      "2006  Second Mate Productions                   865659812\n",
      "      Skylark Productions                       633239851\n",
      "      Government of Malta                       633239851\n",
      "2007  Harry Potter Publishing Rights            788212738\n",
      "      Cool Music                                788212738\n",
      "      Second Mate Productions                   661000000\n",
      "2008  Syncopy                                   816921825\n",
      "      Littlestar                                557841637\n",
      "      Internationale Filmproduktion Richter     557841637\n",
      "2009  Lightstorm Entertainment                 2544505847\n",
      "      Ingenious Film Partners                  1367818820\n",
      "      Blue Sky Studios                          796686817\n",
      "2010  Pixar Animation Studios                   863171911\n",
      "      Zanuck Company, The                       825467110\n",
      "      Team Todd                                 825467110\n",
      "2011  Heyday Films                             1202817822\n",
      "      Hasbro                                    928746996\n",
      "      Di Bonaventura Pictures                   928746996\n",
      "2012  Marvel Studios                           1299557910\n",
      "      Syncopy                                   831041287\n",
      "      DC Entertainment                          831041287\n",
      "2013  Illumination Entertainment                894761885\n",
      "      Color Force                               717423452\n",
      "      WingNut Films                             708400000\n",
      "2014  3Foot7                                    705119788\n",
      "      WingNut Films                             705119788\n",
      "      Revolution Sun Studios                    603312399\n",
      "2015  Truenorth Productions                    1868178225\n",
      "      Lucasfilm                                1868178225\n",
      "      Universal Studios                        1363528810\n",
      "Name: profit, dtype: int64\n"
     ]
    }
   ],
   "source": [
    "#Creating 3 empty lists\n",
    "prod_list=[]\n",
    "year_list=[]\n",
    "profit_list=[]\n",
    "\n",
    "#A function to define the production companies, profit and release year (Assumption: All the production companies associated to a \n",
    "# movie are given the same weightage)\n",
    "def create_prod_list(prod_companies):\n",
    "    for x in prod_companies['production_companies_comma']:\n",
    "        prod_list.append(x)\n",
    "        profit_list.append(prod_companies['revenue']-prod_companies['budget'])\n",
    "        year_list.append(prod_companies['release_year'])\n",
    "        \n",
    "    return None\n",
    "\n",
    "movies_df_cleanup.apply(create_prod_list, axis='columns')  \n",
    "\n",
    "#Creating a new dataframe with profit, production companies and year\n",
    "prod_genre_df=pd.DataFrame({'profit':profit_list,\n",
    "                            'productionCompanies':prod_list,\n",
    "                            'year': year_list}\n",
    "                            )\n",
    "                            \n",
    "#Creating a newdataframe by filtering data after 2000\n",
    "prod_filter_df=prod_genre_df[prod_genre_df['year']>2000]\n",
    "\n",
    "#Grouping data by year and productionCompanies and calculating the mean of profit (also eliminates creating an index\n",
    "# by setting group_keys=false)\n",
    "prod_plot=prod_filter_df.groupby(['year','productionCompanies'],group_keys=False).mean()\n",
    "\n",
    "#Sorting profit in descending order and considering only the top 3 production companies for each year\n",
    "prod_plot2= prod_plot['profit'].groupby(level=0, group_keys=False).apply(lambda x: x.sort_values(ascending=False).head(3))\n",
    "print prod_plot2"
   ]
  },
  {
   "cell_type": "markdown",
   "metadata": {
    "collapsed": true
   },
   "source": [
    "### Research Question 4: 3 movies which are the most profitable every year since 2000"
   ]
  },
  {
   "cell_type": "code",
   "execution_count": 335,
   "metadata": {},
   "outputs": [
    {
     "data": {
      "text/plain": [
       "release_year  original_title                                                \n",
       "2001          Harry Potter and the Philosopher's Stone                           851475550\n",
       "              The Lord of the Rings: The Fellowship of the Ring                  778368364\n",
       "              Monsters, Inc.                                                     447816256\n",
       "2002          The Lord of the Rings: The Two Towers                              847287400\n",
       "              Harry Potter and the Chamber of Secrets                            776688482\n",
       "              Spider-Man                                                         682708551\n",
       "2003          The Lord of the Rings: The Return of the King                     1024888979\n",
       "              Finding Nemo                                                       770625978\n",
       "              The Matrix Reloaded                                                588599701\n",
       "2004          Shrek 2                                                            769838758\n",
       "              Harry Potter and the Prisoner of Azkaban                           659804554\n",
       "              Spider-Man 2                                                       583766341\n",
       "2005          Harry Potter and the Goblet of Fire                                745921036\n",
       "              Star Wars: Episode III - Revenge of the Sith                       737000000\n",
       "              The Chronicles of Narnia: The Lion, the Witch and the Wardrobe     568806957\n",
       "2006          Pirates of the Caribbean: Dead Man's Chest                         865659812\n",
       "              The Da Vinci Code                                                  633239851\n",
       "              Ice Age: The Meltdown                                              580940780\n",
       "2007          Harry Potter and the Order of the Phoenix                          788212738\n",
       "              Pirates of the Caribbean: At World's End                           661000000\n",
       "              Shrek the Third                                                    638958165\n",
       "2008          The Dark Knight                                                    816921825\n",
       "              Indiana Jones and the Kingdom of the Crystal Skull                 601636033\n",
       "              Mamma Mia!                                                         557841637\n",
       "2009          Avatar                                                            2544505847\n",
       "              Ice Age: Dawn of the Dinosaurs                                     796686817\n",
       "              Transformers: Revenge of the Fallen                                686297228\n",
       "2010          Toy Story 3                                                        863171911\n",
       "              Alice in Wonderland                                                825467110\n",
       "              Harry Potter and the Deathly Hallows: Part 1                       704305868\n",
       "2011          Harry Potter and the Deathly Hallows: Part 2                      1202817822\n",
       "              Transformers: Dark of the Moon                                     928746996\n",
       "              Pirates of the Caribbean: On Stranger Tides                        641683000\n",
       "2012          The Avengers                                                      1299557910\n",
       "              Skyfall                                                            908561013\n",
       "              The Dark Knight Rises                                              831041287\n",
       "2013          Frozen                                                            1124219009\n",
       "              Iron Man 3                                                        1015439994\n",
       "              Despicable Me 2                                                    894761885\n",
       "2014          The Hobbit: The Battle of the Five Armies                          705119788\n",
       "              The Hunger Games: Mockingjay - Part 1                              627100229\n",
       "              Guardians of the Galaxy                                            603312399\n",
       "2015          Star Wars: The Force Awakens                                      1868178225\n",
       "              Jurassic World                                                    1363528810\n",
       "              Furious 7                                                         1316249360\n",
       "Name: profit, dtype: int64"
      ]
     },
     "execution_count": 335,
     "metadata": {},
     "output_type": "execute_result"
    }
   ],
   "source": [
    "#Creating a new dataframe by filtering data after 2000\n",
    "movies_df_profit=movies_df[movies_df['release_year']>2000]\n",
    "\n",
    "#Grouping dat by release year, original title and calculating mean of revenue and budget \n",
    "movies_plot=movies_df_profit.groupby(['release_year','original_title'])['revenue','budget'].mean()\n",
    "\n",
    "#Calculating profit for each movie\n",
    "movies_plot['profit']=movies_plot['revenue']-movies_plot['budget']\n",
    "\n",
    "#Sorting profit in descending order and considering only the top 3 movies for each year\n",
    "movies_plot2= movies_plot['profit'].groupby(level=0, group_keys=False).apply(lambda x: x.sort_values(ascending=False).head(3))\n",
    "movies_plot2"
   ]
  },
  {
   "cell_type": "markdown",
   "metadata": {
    "collapsed": true
   },
   "source": [
    "### Research Question 5: Number of movies associated to directors which have revenue more than $500 million"
   ]
  },
  {
   "cell_type": "code",
   "execution_count": 27,
   "metadata": {},
   "outputs": [
    {
     "data": {
      "text/plain": [
       "<matplotlib.text.Text at 0xe6d0f98>"
      ]
     },
     "execution_count": 27,
     "metadata": {},
     "output_type": "execute_result"
    },
    {
     "data": {
      "image/png": "[encoded data removed]",
      "text/plain": [
       "<matplotlib.figure.Figure at 0xe880b00>"
      ]
     },
     "metadata": {},
     "output_type": "display_data"
    }
   ],
   "source": [
    "#Creating a new dataframe by filtering thse movies with revenue greater than $500 million\n",
    "movies_df_rev=movies_df[movies_df['revenue']>500000000]\n",
    "\n",
    "#Grouping top 30 data by director and calculating mean revenue count\n",
    "movies_directors=movies_df_rev.groupby(['director'])['revenue'].count().sort_values(ascending=False).head(30)\n",
    "\n",
    "#Plotting a bar chart\n",
    "ax2=movies_directors.plot.bar(fontsize=8,width=0.9)\n",
    "\n",
    "#Formating axis labels\n",
    "plt.xlabel('Director')\n",
    "plt.ylabel('Number of movies with revenue > $500 million')\n",
    "plt.title('Top 30 directors with revenue > $500 million')"
   ]
  },
  {
   "cell_type": "markdown",
   "metadata": {},
   "source": [
    "<a id='conclusions'></a>\n",
    "## Conclusions\n",
    "\n",
    "> Findings:\n",
    "\n",
    "> 1) From the analysis, it could be found that movies which are in Adventure, Action or Fantasy tend to have a greater success (more revenue) rate than compared to other genres. \n",
    "\n",
    "> 2) It could also be found that the budget as well as revenue of movies have steadily increased over the past 50 years. \n",
    "\n",
    "> 3) Production companies like Heyday Films, Wingnut films and Lucas Films tend to be profitable and are seen often in the top production companies list for the past 15 years\n",
    "\n",
    "> 4) The Harry Potter movie franchise seems to have a greate success as they are always present in the top 3 revenue genrated movies whenever they were released.Majority of the top movies are either fantasy, action or adventure based theme movies.\n",
    "\n",
    ">5) There are 25 directors who have a credit of generating atleast 2 movies with revenue greater than $500 million.\n"
   ]
  }
 ],
 "metadata": {
  "kernelspec": {
   "display_name": "Python [conda env:DAND]",
   "language": "python",
   "name": "conda-env-DAND-py"
  },
  "language_info": {
   "codemirror_mode": {
    "name": "ipython",
    "version": 2
   },
   "file_extension": ".py",
   "mimetype": "text/x-python",
   "name": "python",
   "nbconvert_exporter": "python",
   "pygments_lexer": "ipython2",
   "version": "2.7.12"
  }
 },
 "nbformat": 4,
 "nbformat_minor": 2
}
